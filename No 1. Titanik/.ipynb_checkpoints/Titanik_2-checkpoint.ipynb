{
 "cells": [
  {
   "cell_type": "code",
   "execution_count": 3,
   "id": "492696c6-55a2-49ef-b834-7638ec2ad769",
   "metadata": {},
   "outputs": [],
   "source": [
    "import numpy as np\n",
    "import pandas as pd\n",
    "import matplotlib.pyplot as plt\n",
    "import seaborn as sns\n",
    "import cv2\n",
    "%config Completer.use_jedi = False"
   ]
  },
  {
   "cell_type": "code",
   "execution_count": null,
   "id": "adebb3c6-1fa2-43df-92aa-7415282fae53",
   "metadata": {},
   "outputs": [],
   "source": [
    "# Info\n",
    "# 2021.07.28. ChanHyukLee\n",
    "# For review of titanik competition."
   ]
  },
  {
   "cell_type": "code",
   "execution_count": null,
   "id": "0f72a0e5-7301-4050-8b6c-2c347b2a4a10",
   "metadata": {},
   "outputs": [],
   "source": [
    "plt.style.use('seaborn')\n",
    "sns.set(font)"
   ]
  },
  {
   "cell_type": "code",
   "execution_count": null,
   "id": "fce0bd89-cc5d-4454-b3e2-a809405a25ea",
   "metadata": {},
   "outputs": [],
   "source": [
    "import missingno as msno\n",
    "import warnings\n",
    "warnings.filterwarnings('ignore')"
   ]
  },
  {
   "cell_type": "code",
   "execution_count": null,
   "id": "c30f3b02-238b-4871-b6e1-036232dcd8b0",
   "metadata": {},
   "outputs": [],
   "source": []
  },
  {
   "cell_type": "code",
   "execution_count": null,
   "id": "d23c88a4-c3ab-4b16-8811-5cb713d3a9b8",
   "metadata": {},
   "outputs": [],
   "source": []
  }
 ],
 "metadata": {
  "kernelspec": {
   "display_name": "Python 3",
   "language": "python",
   "name": "python3"
  },
  "language_info": {
   "codemirror_mode": {
    "name": "ipython",
    "version": 3
   },
   "file_extension": ".py",
   "mimetype": "text/x-python",
   "name": "python",
   "nbconvert_exporter": "python",
   "pygments_lexer": "ipython3",
   "version": "3.6.13"
  }
 },
 "nbformat": 4,
 "nbformat_minor": 5
}
