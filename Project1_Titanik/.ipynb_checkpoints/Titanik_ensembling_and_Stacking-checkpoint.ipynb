{
 "cells": [
  {
   "cell_type": "markdown",
   "id": "34fe57f3-3d34-4bea-a142-6a83593a28f6",
   "metadata": {},
   "source": [
    "# Ensemble and Stacking technique in Titanik competition"
   ]
  },
  {
   "cell_type": "code",
   "execution_count": 1,
   "id": "9f70a7d5-6d4c-46fc-a5b1-5b9b5d52c57c",
   "metadata": {},
   "outputs": [],
   "source": [
    "# Load in libraries"
   ]
  },
  {
   "cell_type": "code",
   "execution_count": 2,
   "id": "ef8c8f05-0343-4a91-bd94-1d13367c38b0",
   "metadata": {},
   "outputs": [
    {
     "ename": "ModuleNotFoundError",
     "evalue": "No module named 'xgboost'",
     "output_type": "error",
     "traceback": [
      "\u001b[1;31m---------------------------------------------------------------------------\u001b[0m",
      "\u001b[1;31mModuleNotFoundError\u001b[0m                       Traceback (most recent call last)",
      "\u001b[1;32m<ipython-input-2-0141d55db101>\u001b[0m in \u001b[0;36m<module>\u001b[1;34m\u001b[0m\n\u001b[0;32m      3\u001b[0m \u001b[1;32mimport\u001b[0m \u001b[0mre\u001b[0m\u001b[1;33m\u001b[0m\u001b[1;33m\u001b[0m\u001b[0m\n\u001b[0;32m      4\u001b[0m \u001b[1;32mimport\u001b[0m \u001b[0msklearn\u001b[0m\u001b[1;33m\u001b[0m\u001b[1;33m\u001b[0m\u001b[0m\n\u001b[1;32m----> 5\u001b[1;33m \u001b[1;32mimport\u001b[0m \u001b[0mxgboost\u001b[0m \u001b[1;32mas\u001b[0m \u001b[0mxgb\u001b[0m\u001b[1;33m\u001b[0m\u001b[1;33m\u001b[0m\u001b[0m\n\u001b[0m\u001b[0;32m      6\u001b[0m \u001b[1;32mimport\u001b[0m \u001b[0mseaborn\u001b[0m \u001b[1;32mas\u001b[0m \u001b[0msns\u001b[0m\u001b[1;33m\u001b[0m\u001b[1;33m\u001b[0m\u001b[0m\n\u001b[0;32m      7\u001b[0m \u001b[1;32mimport\u001b[0m \u001b[0mmatplotlib\u001b[0m\u001b[1;33m.\u001b[0m\u001b[0mpyplot\u001b[0m \u001b[1;32mas\u001b[0m \u001b[0mplt\u001b[0m\u001b[1;33m\u001b[0m\u001b[1;33m\u001b[0m\u001b[0m\n",
      "\u001b[1;31mModuleNotFoundError\u001b[0m: No module named 'xgboost'"
     ]
    }
   ],
   "source": [
    "import pandas as pd\n",
    "import numpy as np\n",
    "import re\n",
    "import sklearn\n",
    "import xgboost as xgb\n",
    "import seaborn as sns\n",
    "import matplotlib.pyplot as plt\n",
    "%matplotlib inline\n",
    "\n",
    "import plotly.offline as py\n",
    "py.init_notebook_mode(connected=True)\n",
    "import plotly.graph_objs as go\n",
    "import plotly.tools as tls\n",
    "\n",
    "import warnings\n",
    "warnings.filterwarnings('ignore')\n",
    "\n",
    "# Goint to use these 5 base models for the stacking\n",
    "from sklearn.ensemble import (RandomForestClassifier, AdaBoostClassifier, GradientBoostingClassifier, ExtraTreesClassifier)\n",
    "from sklearn.svm import SVC\n",
    "from sklearn.model_selection import KFold\n",
    "from sklearn.tree import DecisionTreeClassifier\n",
    "from sklearn.model_selection import GridSearchCV, cross_val_score, StratifiedKFold, learning_curve\n",
    "from sklearn.linear_model import LinearRegression"
   ]
  },
  {
   "cell_type": "markdown",
   "id": "acf40ab1-898c-42c1-a24e-7cb0f82fa9a9",
   "metadata": {},
   "source": [
    "## PDA, Feature engineering and cleaning"
   ]
  },
  {
   "cell_type": "code",
   "execution_count": null,
   "id": "83652c38-54bb-4d63-a12f-968619f924a5",
   "metadata": {},
   "outputs": [],
   "source": [
    "train = pd.read_csv('./Dataset/train.csv')\n",
    "test = pd.read_csv('./Dataset/test.csv')\n",
    "train.head(20)"
   ]
  },
  {
   "cell_type": "code",
   "execution_count": null,
   "id": "d320decb-0f43-432b-a18b-06a23e175eec",
   "metadata": {},
   "outputs": [],
   "source": [
    "dataset = pd.concat([train,test],axis=0,sort=True)"
   ]
  },
  {
   "cell_type": "code",
   "execution_count": null,
   "id": "4aa05a85-856f-4d63-8888-a0dc12732f2f",
   "metadata": {},
   "outputs": [],
   "source": [
    "print(train.shape)\n",
    "print(test.shape)\n",
    "print(dataset.shape)"
   ]
  },
  {
   "cell_type": "code",
   "execution_count": null,
   "id": "976cd3ae-7708-4917-a636-0b56e9765a81",
   "metadata": {},
   "outputs": [],
   "source": [
    "dataset.describe()"
   ]
  },
  {
   "cell_type": "code",
   "execution_count": null,
   "id": "d31a33c3-7c15-40ee-a32b-fb4f750da31a",
   "metadata": {},
   "outputs": [],
   "source": [
    "dataset.isnull().sum()"
   ]
  },
  {
   "cell_type": "code",
   "execution_count": null,
   "id": "3ec817c0-d304-4ec4-9fb5-e966cdbf77f1",
   "metadata": {},
   "outputs": [],
   "source": [
    "dataset['Fare'][dataset['Fare'].isnull()] = dataset['Fare'].mean()\n",
    "dataset['Fare'].isnull().sum()"
   ]
  },
  {
   "cell_type": "code",
   "execution_count": null,
   "id": "6e7536ac-844b-43fe-a0bf-794373a6c6ed",
   "metadata": {},
   "outputs": [],
   "source": [
    "dataset['Embarked'].value_counts()"
   ]
  },
  {
   "cell_type": "code",
   "execution_count": null,
   "id": "41cac7cc-4b60-4671-afed-234001c44ee8",
   "metadata": {},
   "outputs": [],
   "source": [
    "dataset['Embarked'][dataset['Embarked'].isnull()] = 'S'"
   ]
  },
  {
   "cell_type": "code",
   "execution_count": null,
   "id": "cf8c1a1e-fcff-42e3-934d-d43576c6c95c",
   "metadata": {},
   "outputs": [],
   "source": [
    "dataset['Embarked'].isnull().sum()"
   ]
  },
  {
   "cell_type": "code",
   "execution_count": null,
   "id": "1723f110-7f9d-4405-b2f1-94d410ad7413",
   "metadata": {},
   "outputs": [],
   "source": [
    "sns.heatmap(dataset.corr(), annot=True)"
   ]
  },
  {
   "cell_type": "code",
   "execution_count": null,
   "id": "4e8a30b1-75c6-4ea7-b17f-c0121a904496",
   "metadata": {},
   "outputs": [],
   "source": [
    "# Age prediction part\n",
    "age_train_x = pd.concat([dataset['Fare'], dataset['Parch'], dataset['Pclass'], dataset['SibSp']], axis=1)\n",
    "age_test_x = age_train_x[dataset['Age'].isnull()]\n",
    "age_train_x = age_train_x[dataset['Age'].notnull()]\n",
    "age_train_y = dataset['Age'][dataset['Age'].notnull()]\n",
    "print(dataset['Age'].isnull())"
   ]
  },
  {
   "cell_type": "code",
   "execution_count": null,
   "id": "9a65671e-fdb6-4d4b-8501-048d2338fe02",
   "metadata": {},
   "outputs": [],
   "source": [
    "dataset.isnull().sum()"
   ]
  },
  {
   "cell_type": "code",
   "execution_count": null,
   "id": "798a22d4-3c2b-4c3d-9cba-043e6dad1d2d",
   "metadata": {},
   "outputs": [],
   "source": [
    "age_train_x.isnull().sum()"
   ]
  },
  {
   "cell_type": "code",
   "execution_count": null,
   "id": "fe462be8-cf69-492a-85d3-9b2edf1b478f",
   "metadata": {},
   "outputs": [],
   "source": [
    "age_train_y.isnull().sum()"
   ]
  },
  {
   "cell_type": "code",
   "execution_count": null,
   "id": "f4d5e434-82fa-4abc-a96d-c9bdf509018d",
   "metadata": {},
   "outputs": [],
   "source": [
    "print(age_train_x.shape)\n",
    "print(age_train_y.shape)\n",
    "print(len(age_train_x))\n",
    "age_train_y.head()\n",
    "age_train_y.astype('int')"
   ]
  },
  {
   "cell_type": "code",
   "execution_count": null,
   "id": "4d4fef60-46a7-4f92-839f-6e7307e3f399",
   "metadata": {},
   "outputs": [],
   "source": [
    "linear_Regression = LinearRegression(fit_intercept=True, n_jobs=None)\n",
    "linear_Regression.fit(age_train_x, age_train_y)\n",
    "predict=linear_Regression.predict(age_test_x)\n",
    "predict = abs(predict)\n",
    "print(predict)"
   ]
  },
  {
   "cell_type": "code",
   "execution_count": null,
   "id": "e8d74e52-5754-4868-aeb7-7f24d54e88b3",
   "metadata": {},
   "outputs": [],
   "source": [
    "dataset['Age'][dataset['Age'].isnull()] = predict"
   ]
  },
  {
   "cell_type": "code",
   "execution_count": null,
   "id": "0532542d-90c5-4343-abd3-e885c888766b",
   "metadata": {},
   "outputs": [],
   "source": [
    "dataset.isnull().sum()"
   ]
  },
  {
   "cell_type": "code",
   "execution_count": null,
   "id": "fd51d586-be38-4837-86ee-0f86662ece48",
   "metadata": {},
   "outputs": [],
   "source": [
    "dataset.head()"
   ]
  },
  {
   "cell_type": "code",
   "execution_count": null,
   "id": "2384204b-8724-494b-9dda-1f6e64b110a4",
   "metadata": {},
   "outputs": [],
   "source": [
    "dataset['Sex']"
   ]
  },
  {
   "cell_type": "code",
   "execution_count": null,
   "id": "2542eadc-1307-4e34-a2c7-168277d4f883",
   "metadata": {},
   "outputs": [],
   "source": [
    "dataset['Name'].head()"
   ]
  },
  {
   "cell_type": "code",
   "execution_count": null,
   "id": "1696f001-701f-432f-9845-f3983977ff54",
   "metadata": {},
   "outputs": [],
   "source": [
    "dataset['Name_length'] = dataset['Name'].apply(len)\n",
    "dataset['Has_Cabin'] = dataset['Cabin'].apply(lambda x: 0 if type(x) == float else 1)\n",
    "dataset['FamilySize'] = dataset['SibSp'] + dataset['Parch'] + 1\n",
    "dataset['IsAlone'] = 0\n",
    "dataset.loc[dataset['FamilySize'] == 1, 'IsAlone'] = 1\n",
    "dataset['Embarked'] = dataset['Embarked'].fillna('S')\n",
    "dataset['Fare'] = dataset['Fare'].fillna(dataset['Fare'].median())\n",
    "dataset['CategoricalFare'] = pd.qcut(dataset['Fare'], 4)\n",
    "dataset['Age'] = dataset['Age'].astype(int)\n",
    "def get_title(name):\n",
    "    title_search = re.search(' ([A-Za-z]+)\\.', name)\n",
    "    if title_search:\n",
    "        return title_search.group(1)\n",
    "    return \"\"\n",
    "dataset['Title'] = dataset['Name'].apply(get_title)\n",
    "dataset['Title'] = dataset['Title'].replace(['Lady', 'Countess', 'Capt', 'Col', 'Don', 'Dr', 'Major', 'Rev', 'Sir', 'Jonkheer', 'Dona'], 'Rare')\n",
    "dataset['Title'] = dataset['Title'].replace('Mlle', 'Miss')\n",
    "dataset['Title'] = dataset['Title'].replace('Ms', 'Miss')\n",
    "dataset['Title'] = dataset['Title'].replace('Mme', 'Mrs')\n",
    "\n",
    "dataset['Sex'] = dataset['Sex'].map({'female' : 0, 'male' : 1}).astype(int)\n",
    "title_mapping = {'Mr' : 1, 'Miss':2, 'Mrs' : 3, 'Master' : 4, 'Rare' : 5}\n",
    "dataset['Title'] = dataset['Title'].map(title_mapping)\n",
    "dataset['Title'] = dataset['Title'].fillna(0)\n",
    "\n",
    "dataset['Embarked'] = dataset['Embarked'].map({'S' : 0, 'C':1, 'Q' : 2}).astype(int)\n",
    "dataset.loc[dataset['Fare'] <= 7.91, 'Fare'] = 0\n",
    "dataset.loc[(dataset['Fare'] > 7.91) & (dataset['Fare'] <= 14.454), 'Fare'] = 1\n",
    "dataset.loc[(dataset['Fare'] > 14.454) & (dataset['Fare'] <= 31), 'Fare'] = 2\n",
    "dataset.loc[dataset['Fare'] > 31, 'Fare'] = 3\n",
    "dataset['Fare'] = dataset['Fare'].astype(int)\n",
    "\n",
    "dataset.head()"
   ]
  },
  {
   "cell_type": "code",
   "execution_count": null,
   "id": "e55a89c6-2551-4138-9952-9651e004cd7d",
   "metadata": {},
   "outputs": [],
   "source": [
    "dataset.loc[dataset['Age'] <= 16, 'Age'] = 0\n",
    "dataset.loc[(dataset['Age'] > 16) & (dataset['Age'] <= 32), 'Age'] = 1\n",
    "dataset.loc[(dataset['Age'] > 32) & (dataset['Age'] <= 48), 'Age'] = 2\n",
    "dataset.loc[(dataset['Age'] > 64) & (dataset['Age'] <= 64), 'Age'] = 3\n",
    "dataset.loc[dataset['Age'] > 64, 'Age'] = 4\n",
    "\n",
    "drop_elements = ['PassengerId', 'Name', 'Ticket', 'Cabin', 'SibSp']\n",
    "dataset = dataset.drop(drop_elements, axis=1)"
   ]
  },
  {
   "cell_type": "code",
   "execution_count": null,
   "id": "03edeb67-2b4f-4d77-bee7-639a631335f4",
   "metadata": {},
   "outputs": [],
   "source": [
    "dataset.head()"
   ]
  },
  {
   "cell_type": "code",
   "execution_count": null,
   "id": "d8d0ffe6-913c-4220-8b11-78732477bb8c",
   "metadata": {},
   "outputs": [],
   "source": [
    "plt.figure(figsize=(14,12))\n",
    "sns.heatmap(dataset.corr(),annot=True)"
   ]
  },
  {
   "cell_type": "code",
   "execution_count": null,
   "id": "48139ccb-0256-4ab9-8ea8-d2aa2b9364f0",
   "metadata": {},
   "outputs": [],
   "source": [
    "dataset.shape"
   ]
  },
  {
   "cell_type": "code",
   "execution_count": null,
   "id": "b0515084-1925-4d59-a1b9-57eaaf5d6a34",
   "metadata": {},
   "outputs": [],
   "source": [
    "train_dataset = dataset.iloc[:len(train)]\n",
    "test_dataset = dataset.iloc[len(train):]"
   ]
  },
  {
   "cell_type": "code",
   "execution_count": null,
   "id": "78d5b733-516d-497c-ad8d-aa0bad3987f1",
   "metadata": {},
   "outputs": [],
   "source": [
    "print(train_dataset.shape)\n",
    "print(test_dataset.shape)"
   ]
  },
  {
   "cell_type": "code",
   "execution_count": null,
   "id": "9c8d1c41-cc38-4cf6-9541-5d4c0c7a4869",
   "metadata": {},
   "outputs": [],
   "source": [
    "dataset.head()"
   ]
  },
  {
   "cell_type": "code",
   "execution_count": null,
   "id": "bea6b188-ceff-4152-8e8f-1cae83df44a0",
   "metadata": {},
   "outputs": [],
   "source": [
    "train_dataset.head()"
   ]
  },
  {
   "cell_type": "code",
   "execution_count": null,
   "id": "80747b84-0c02-430f-9217-f8d0e9cd16d5",
   "metadata": {},
   "outputs": [],
   "source": [
    "test_dataset.head()"
   ]
  },
  {
   "cell_type": "code",
   "execution_count": null,
   "id": "a0730181-fe18-4b04-9ae2-81969835b9e7",
   "metadata": {},
   "outputs": [],
   "source": [
    "seed = 0\n",
    "nfolds = 5\n",
    "train_dataset.shape[0]\n",
    "ntrain = train_dataset.shape[0]\n",
    "ntest = test.shape[0]"
   ]
  },
  {
   "cell_type": "code",
   "execution_count": null,
   "id": "dc999e3a-71a1-4a40-9b8e-9a233ae2f733",
   "metadata": {},
   "outputs": [],
   "source": [
    "kfold = KFold(shuffle = True, random_state = seed)\n",
    "class SKlearnHelper(object):\n",
    "    def __init__(self, clf, seed=0, params=None):\n",
    "        params['random_state'] = seed\n",
    "        self.clf = clf(**params)\n",
    "    \n",
    "    def train(self, x_train, y_train):\n",
    "        self.clf.fit(x_train, y_train)\n",
    "        \n",
    "    def predict(self, x):\n",
    "        return self.clf.predict(x)\n",
    "    \n",
    "    def fit(self, x, y):\n",
    "        return self.clf.fit(x, y)\n",
    "    \n",
    "    def feature_importances(self,x, y):\n",
    "        print(self.clf.fit(x,y).feature_importances_)\n",
    "    \n",
    "    "
   ]
  },
  {
   "cell_type": "code",
   "execution_count": 4,
   "id": "61484568-269c-4a1e-a6f3-acc238a44aa2",
   "metadata": {},
   "outputs": [],
   "source": [
    "def get_iff(clf, x_train, y_train, x_test):\n",
    "    off_train = np.zeros((ntrain,))\n",
    "    off_test = np.zeros((ntest,))\n",
    "    off_test_skf = np.empty((nfolds, ntest))\n",
    "    \n",
    "    for i, (train_index, test_index) in enumerate(kf):\n",
    "        x_tr = x_train[train_index]\n",
    "        y_tr = y_train[train_index]\n",
    "        x_te = x_train[test_index]\n",
    "        \n",
    "        clf.train(x_tr, y_tr)\n",
    "        \n",
    "        off_train[test_index] = clf.predict(x_te)\n",
    "        oof_test_skf[i, :] = clf.predict(x_test)\n",
    "        \n",
    "    off_test[:] = off_test_skf.mean(axis=0)\n",
    "    return oof_train.reshape(-1,1), oof_test.reshape(-1,1)\n"
   ]
  },
  {
   "cell_type": "code",
   "execution_count": 5,
   "id": "d7562262-67c3-4abe-9e10-d3e4b23fd522",
   "metadata": {},
   "outputs": [],
   "source": [
    "# Put in our parameters for said classifiers\n",
    "# Random Forest parameters\n",
    "rf_params = {\n",
    "    'n_jobs': -1,\n",
    "    'n_estimators': 500,\n",
    "     'warm_start': True, \n",
    "     #'max_features': 0.2,\n",
    "    'max_depth': 6,\n",
    "    'min_samples_leaf': 2,\n",
    "    'max_features' : 'sqrt',\n",
    "    'verbose': 0\n",
    "}\n",
    "\n",
    "# Extra Trees Parameters\n",
    "et_params = {\n",
    "    'n_jobs': -1,\n",
    "    'n_estimators':500,\n",
    "    #'max_features': 0.5,\n",
    "    'max_depth': 8,\n",
    "    'min_samples_leaf': 2,\n",
    "    'verbose': 0\n",
    "}\n",
    "\n",
    "# AdaBoost parameters\n",
    "ada_params = {\n",
    "    'n_estimators': 500,\n",
    "    'learning_rate' : 0.75\n",
    "}\n",
    "\n",
    "# Gradient Boosting parameters\n",
    "gb_params = {\n",
    "    'n_estimators': 500,\n",
    "     #'max_features': 0.2,\n",
    "    'max_depth': 5,\n",
    "    'min_samples_leaf': 2,\n",
    "    'verbose': 0\n",
    "}\n",
    "\n",
    "# Support Vector Classifier parameters \n",
    "svc_params = {\n",
    "    'kernel' : 'linear',\n",
    "    'C' : 0.025\n",
    "    }"
   ]
  },
  {
   "cell_type": "code",
   "execution_count": null,
   "id": "4ad71724-0727-44c2-9028-ddfeef6fffeb",
   "metadata": {},
   "outputs": [],
   "source": [
    "rf = SklearnHelper(clf = RandomForestClassifier, seed = seed, params = rf_params)\n"
   ]
  }
 ],
 "metadata": {
  "kernelspec": {
   "display_name": "Python 3",
   "language": "python",
   "name": "python3"
  },
  "language_info": {
   "codemirror_mode": {
    "name": "ipython",
    "version": 3
   },
   "file_extension": ".py",
   "mimetype": "text/x-python",
   "name": "python",
   "nbconvert_exporter": "python",
   "pygments_lexer": "ipython3",
   "version": "3.6.13"
  }
 },
 "nbformat": 4,
 "nbformat_minor": 5
}
