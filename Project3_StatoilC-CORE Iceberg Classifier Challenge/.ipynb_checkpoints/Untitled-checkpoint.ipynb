{
 "cells": [
  {
   "cell_type": "code",
   "execution_count": 1,
   "id": "a1874a8e-440f-47ec-9018-4395ca6e18e6",
   "metadata": {},
   "outputs": [],
   "source": [
    "import numpy as np\n",
    "import pandas as pd\n",
    "from subprocess import check_output"
   ]
  },
  {
   "cell_type": "code",
   "execution_count": 2,
   "id": "81b3d0ae-0d23-42ab-8f83-16d73f01325e",
   "metadata": {},
   "outputs": [],
   "source": [
    "from sklearn.model_selection import train_test_split\n",
    "from sklearn.metrics import log_loss\n",
    "from sklearn.model_selection import StratifiedKFold, StratifiedShuffleSplit\n",
    "import os\n",
    "from matplotlib import pyplot as plt\n",
    "from mpl_toolkits.mplot3d import Axes3D\n",
    "import pylab\n",
    "plt.rcParams['figure.figsize'] = 10, 10\n",
    "%matplotlib inline\n"
   ]
  },
  {
   "cell_type": "code",
   "execution_count": 3,
   "id": "9b1ea520-87b0-4a44-8e5c-0e3f1e91937a",
   "metadata": {},
   "outputs": [],
   "source": [
    "train = pd.read_json('./Dataset/train.json')\n",
    "test = pd.read_json('./Dataset/test.json')\n",
    "target_train = train['is_iceberg']"
   ]
  },
  {
   "cell_type": "code",
   "execution_count": 4,
   "id": "6f5d1eca-345c-45b1-a2e4-0adf4e750610",
   "metadata": {},
   "outputs": [
    {
     "data": {
      "text/html": [
       "<div>\n",
       "<style scoped>\n",
       "    .dataframe tbody tr th:only-of-type {\n",
       "        vertical-align: middle;\n",
       "    }\n",
       "\n",
       "    .dataframe tbody tr th {\n",
       "        vertical-align: top;\n",
       "    }\n",
       "\n",
       "    .dataframe thead th {\n",
       "        text-align: right;\n",
       "    }\n",
       "</style>\n",
       "<table border=\"1\" class=\"dataframe\">\n",
       "  <thead>\n",
       "    <tr style=\"text-align: right;\">\n",
       "      <th></th>\n",
       "      <th>id</th>\n",
       "      <th>band_1</th>\n",
       "      <th>band_2</th>\n",
       "      <th>inc_angle</th>\n",
       "      <th>is_iceberg</th>\n",
       "    </tr>\n",
       "  </thead>\n",
       "  <tbody>\n",
       "    <tr>\n",
       "      <th>0</th>\n",
       "      <td>dfd5f913</td>\n",
       "      <td>[-27.878360999999998, -27.15416, -28.668615, -...</td>\n",
       "      <td>[-27.154118, -29.537888, -31.0306, -32.190483,...</td>\n",
       "      <td>43.9239</td>\n",
       "      <td>0</td>\n",
       "    </tr>\n",
       "    <tr>\n",
       "      <th>1</th>\n",
       "      <td>e25388fd</td>\n",
       "      <td>[-12.242375, -14.920304999999999, -14.920363, ...</td>\n",
       "      <td>[-31.506321, -27.984554, -26.645678, -23.76760...</td>\n",
       "      <td>38.1562</td>\n",
       "      <td>0</td>\n",
       "    </tr>\n",
       "    <tr>\n",
       "      <th>2</th>\n",
       "      <td>58b2aaa0</td>\n",
       "      <td>[-24.603676, -24.603714, -24.871029, -23.15277...</td>\n",
       "      <td>[-24.870956, -24.092632, -20.653963, -19.41104...</td>\n",
       "      <td>45.2859</td>\n",
       "      <td>1</td>\n",
       "    </tr>\n",
       "    <tr>\n",
       "      <th>3</th>\n",
       "      <td>4cfc3a18</td>\n",
       "      <td>[-22.454607, -23.082819, -23.998013, -23.99805...</td>\n",
       "      <td>[-27.889421, -27.519794, -27.165262, -29.10350...</td>\n",
       "      <td>43.8306</td>\n",
       "      <td>0</td>\n",
       "    </tr>\n",
       "    <tr>\n",
       "      <th>4</th>\n",
       "      <td>271f93f4</td>\n",
       "      <td>[-26.006956, -23.164886, -23.164886, -26.89116...</td>\n",
       "      <td>[-27.206915, -30.259186, -30.259186, -23.16495...</td>\n",
       "      <td>35.6256</td>\n",
       "      <td>0</td>\n",
       "    </tr>\n",
       "  </tbody>\n",
       "</table>\n",
       "</div>"
      ],
      "text/plain": [
       "         id                                             band_1  \\\n",
       "0  dfd5f913  [-27.878360999999998, -27.15416, -28.668615, -...   \n",
       "1  e25388fd  [-12.242375, -14.920304999999999, -14.920363, ...   \n",
       "2  58b2aaa0  [-24.603676, -24.603714, -24.871029, -23.15277...   \n",
       "3  4cfc3a18  [-22.454607, -23.082819, -23.998013, -23.99805...   \n",
       "4  271f93f4  [-26.006956, -23.164886, -23.164886, -26.89116...   \n",
       "\n",
       "                                              band_2 inc_angle  is_iceberg  \n",
       "0  [-27.154118, -29.537888, -31.0306, -32.190483,...   43.9239           0  \n",
       "1  [-31.506321, -27.984554, -26.645678, -23.76760...   38.1562           0  \n",
       "2  [-24.870956, -24.092632, -20.653963, -19.41104...   45.2859           1  \n",
       "3  [-27.889421, -27.519794, -27.165262, -29.10350...   43.8306           0  \n",
       "4  [-27.206915, -30.259186, -30.259186, -23.16495...   35.6256           0  "
      ]
     },
     "execution_count": 4,
     "metadata": {},
     "output_type": "execute_result"
    }
   ],
   "source": [
    "train.head()"
   ]
  },
  {
   "cell_type": "code",
   "execution_count": 5,
   "id": "9750c374-055d-40e7-b12c-df1ca7d39c11",
   "metadata": {},
   "outputs": [
    {
     "data": {
      "text/html": [
       "<div>\n",
       "<style scoped>\n",
       "    .dataframe tbody tr th:only-of-type {\n",
       "        vertical-align: middle;\n",
       "    }\n",
       "\n",
       "    .dataframe tbody tr th {\n",
       "        vertical-align: top;\n",
       "    }\n",
       "\n",
       "    .dataframe thead th {\n",
       "        text-align: right;\n",
       "    }\n",
       "</style>\n",
       "<table border=\"1\" class=\"dataframe\">\n",
       "  <thead>\n",
       "    <tr style=\"text-align: right;\">\n",
       "      <th></th>\n",
       "      <th>id</th>\n",
       "      <th>band_1</th>\n",
       "      <th>band_2</th>\n",
       "      <th>inc_angle</th>\n",
       "    </tr>\n",
       "  </thead>\n",
       "  <tbody>\n",
       "    <tr>\n",
       "      <th>0</th>\n",
       "      <td>5941774d</td>\n",
       "      <td>[-15.863251, -15.201077, -17.887735, -19.17248...</td>\n",
       "      <td>[-21.629612, -21.142353, -23.908337, -28.34524...</td>\n",
       "      <td>34.966400</td>\n",
       "    </tr>\n",
       "    <tr>\n",
       "      <th>1</th>\n",
       "      <td>4023181e</td>\n",
       "      <td>[-26.058969497680664, -26.058969497680664, -26...</td>\n",
       "      <td>[-25.754207611083984, -25.754207611083984, -25...</td>\n",
       "      <td>32.615072</td>\n",
       "    </tr>\n",
       "    <tr>\n",
       "      <th>2</th>\n",
       "      <td>b20200e4</td>\n",
       "      <td>[-14.14109992980957, -15.064241409301758, -17....</td>\n",
       "      <td>[-14.74563980102539, -14.590410232543945, -14....</td>\n",
       "      <td>37.505433</td>\n",
       "    </tr>\n",
       "    <tr>\n",
       "      <th>3</th>\n",
       "      <td>e7f018bb</td>\n",
       "      <td>[-12.167478, -13.706167, -16.54837, -13.572674...</td>\n",
       "      <td>[-24.32222, -26.375538, -24.096739, -23.8769, ...</td>\n",
       "      <td>34.473900</td>\n",
       "    </tr>\n",
       "    <tr>\n",
       "      <th>4</th>\n",
       "      <td>4371c8c3</td>\n",
       "      <td>[-23.37459373474121, -26.02718162536621, -28.1...</td>\n",
       "      <td>[-25.72234344482422, -27.011577606201172, -23....</td>\n",
       "      <td>43.918874</td>\n",
       "    </tr>\n",
       "  </tbody>\n",
       "</table>\n",
       "</div>"
      ],
      "text/plain": [
       "         id                                             band_1  \\\n",
       "0  5941774d  [-15.863251, -15.201077, -17.887735, -19.17248...   \n",
       "1  4023181e  [-26.058969497680664, -26.058969497680664, -26...   \n",
       "2  b20200e4  [-14.14109992980957, -15.064241409301758, -17....   \n",
       "3  e7f018bb  [-12.167478, -13.706167, -16.54837, -13.572674...   \n",
       "4  4371c8c3  [-23.37459373474121, -26.02718162536621, -28.1...   \n",
       "\n",
       "                                              band_2  inc_angle  \n",
       "0  [-21.629612, -21.142353, -23.908337, -28.34524...  34.966400  \n",
       "1  [-25.754207611083984, -25.754207611083984, -25...  32.615072  \n",
       "2  [-14.74563980102539, -14.590410232543945, -14....  37.505433  \n",
       "3  [-24.32222, -26.375538, -24.096739, -23.8769, ...  34.473900  \n",
       "4  [-25.72234344482422, -27.011577606201172, -23....  43.918874  "
      ]
     },
     "execution_count": 5,
     "metadata": {},
     "output_type": "execute_result"
    }
   ],
   "source": [
    "test.head()"
   ]
  },
  {
   "cell_type": "code",
   "execution_count": 6,
   "id": "1b5fb35f-d07b-4231-8c57-fb00cd1a3763",
   "metadata": {},
   "outputs": [
    {
     "name": "stdout",
     "output_type": "stream",
     "text": [
      "<class 'pandas.core.frame.DataFrame'>\n",
      "RangeIndex: 1604 entries, 0 to 1603\n",
      "Data columns (total 5 columns):\n",
      " #   Column      Non-Null Count  Dtype \n",
      "---  ------      --------------  ----- \n",
      " 0   id          1604 non-null   object\n",
      " 1   band_1      1604 non-null   object\n",
      " 2   band_2      1604 non-null   object\n",
      " 3   inc_angle   1604 non-null   object\n",
      " 4   is_iceberg  1604 non-null   int64 \n",
      "dtypes: int64(1), object(4)\n",
      "memory usage: 62.8+ KB\n"
     ]
    }
   ],
   "source": [
    "train.info()"
   ]
  },
  {
   "cell_type": "code",
   "execution_count": 7,
   "id": "f0360ab6-7a49-436d-90ea-964977d50724",
   "metadata": {},
   "outputs": [
    {
     "name": "stdout",
     "output_type": "stream",
     "text": [
      "<class 'pandas.core.frame.DataFrame'>\n",
      "RangeIndex: 8424 entries, 0 to 8423\n",
      "Data columns (total 4 columns):\n",
      " #   Column     Non-Null Count  Dtype  \n",
      "---  ------     --------------  -----  \n",
      " 0   id         8424 non-null   object \n",
      " 1   band_1     8424 non-null   object \n",
      " 2   band_2     8424 non-null   object \n",
      " 3   inc_angle  8424 non-null   float64\n",
      "dtypes: float64(1), object(3)\n",
      "memory usage: 263.4+ KB\n"
     ]
    }
   ],
   "source": [
    "test.info()"
   ]
  },
  {
   "cell_type": "code",
   "execution_count": 8,
   "id": "eca2c0cf-4138-4cb8-be5f-05bb10a407d6",
   "metadata": {},
   "outputs": [],
   "source": [
    "train['inc_angle'] = pd.to_numeric(test['inc_angle'], errors='coerce')"
   ]
  },
  {
   "cell_type": "code",
   "execution_count": 9,
   "id": "ef460f9c-322e-494d-b4d9-fedecdc8043a",
   "metadata": {},
   "outputs": [
    {
     "name": "stdout",
     "output_type": "stream",
     "text": [
      "<class 'pandas.core.frame.DataFrame'>\n",
      "RangeIndex: 1604 entries, 0 to 1603\n",
      "Data columns (total 5 columns):\n",
      " #   Column      Non-Null Count  Dtype  \n",
      "---  ------      --------------  -----  \n",
      " 0   id          1604 non-null   object \n",
      " 1   band_1      1604 non-null   object \n",
      " 2   band_2      1604 non-null   object \n",
      " 3   inc_angle   1604 non-null   float64\n",
      " 4   is_iceberg  1604 non-null   int64  \n",
      "dtypes: float64(1), int64(1), object(3)\n",
      "memory usage: 62.8+ KB\n"
     ]
    }
   ],
   "source": [
    "train.info()"
   ]
  },
  {
   "cell_type": "code",
   "execution_count": 10,
   "id": "4304a4db-b1ed-435c-a7d4-425ad77116f4",
   "metadata": {},
   "outputs": [
    {
     "data": {
      "text/plain": [
       "id            0\n",
       "band_1        0\n",
       "band_2        0\n",
       "inc_angle     0\n",
       "is_iceberg    0\n",
       "dtype: int64"
      ]
     },
     "execution_count": 10,
     "metadata": {},
     "output_type": "execute_result"
    }
   ],
   "source": [
    "train.isnull().sum()"
   ]
  },
  {
   "cell_type": "code",
   "execution_count": 12,
   "id": "6607ea2a-a14f-4be2-9bef-6d52071593f7",
   "metadata": {},
   "outputs": [],
   "source": [
    "# The 'inc_angle' doesn't have the nan data. So why use fillna method?\n",
    "train['inc_angle'] = train['inc_angle'].fillna(method='pad')\n",
    "test['inc_angle'] = pd.to_numeric(test['inc_angle'], errors='coerce')\n",
    "X_test_angle = test['inc_angle']"
   ]
  },
  {
   "cell_type": "code",
   "execution_count": 14,
   "id": "164768f2-5062-48ff-8c33-573047159640",
   "metadata": {},
   "outputs": [],
   "source": [
    "# Generate the training data\n",
    "X_band_1 = np.array([np.array(band).astype(np.float32).reshape(75, 75) for band in train['band_1']])\n",
    "X_band_2 = np.array([np.array(band).astype(np.float32).reshape(75, 75) for band in train['band_2']])\n",
    "X_band_3 = (X_band_1 + X_band_2) / 2\n",
    "X_train = np.concatenate([X_band_1[:,:,:,np.newaxis], X_band_2[:,:,:,np.newaxis], X_band_3[:,:,:,np.newaxis]], axis=-1)"
   ]
  },
  {
   "cell_type": "code",
   "execution_count": 15,
   "id": "e498b000-bf3f-4b39-98b9-247b1ad886cd",
   "metadata": {},
   "outputs": [],
   "source": [
    "# Generate the training data\n",
    "X_band_1 = np.array([np.array(band).astype(np.float32).reshape(75, 75) for band in test['band_1']])\n",
    "X_band_2 = np.array([np.array(band).astype(np.float32).reshape(75, 75) for band in test['band_2']])\n",
    "X_band_3 = (X_band_1 + X_band_2) / 2\n",
    "X_test = np.concatenate([X_band_1[:,:,:,np.newaxis], X_band_2[:,:,:,np.newaxis], X_band_3[:,:,:,np.newaxis]], axis=-1)"
   ]
  },
  {
   "cell_type": "code",
   "execution_count": 19,
   "id": "f6fabbd0-c222-43d0-9148-5d599c9331a0",
   "metadata": {},
   "outputs": [],
   "source": [
    "from matplotlib import pyplot\n",
    "from keras.optimizers import RMSprop\n",
    "from keras.models import Sequential\n",
    "from keras.layers import Conv2D, MaxPooling2D, Dense, Dropout, Input, Flatten, Activation\n",
    "from keras.layers import GlobalMaxPooling2D\n",
    "from keras.layers.normalization import BatchNormalization\n",
    "from keras.layers.merge import Concatenate\n",
    "from keras.models import Model\n",
    "from keras import initializers\n",
    "from keras.optimizers import Adam\n",
    "from keras.optimizers import rmsprop\n",
    "from keras.optimizers import SGD\n",
    "from keras.callbacks import ModelCheckpoint, Callback, EarlyStopping\n",
    "from keras.datasets import cifar10\n",
    "from keras.applications.inception_v3 import InceptionV3\n",
    "from keras.applications.vgg16 import VGG16\n",
    "from keras.applications.xception import Xception\n",
    "from keras.applications.mobilenet import MobileNet\n",
    "from keras.applications.vgg19 import VGG19\n",
    "from keras.layers import Concatenate, Dense, LSTM, Input, concatenate\n",
    "from keras.preprocessing import image\n",
    "from keras.applications.vgg16 import preprocess_input\n",
    "\n",
    "from keras.preprocessing.image import ImageDataGenerator"
   ]
  },
  {
   "cell_type": "code",
   "execution_count": null,
   "id": "1594e6a9-a7e1-48e4-ad85-082b2f4a9097",
   "metadata": {},
   "outputs": [],
   "source": [
    "# Data augmentation\n",
    "batch_size = 64\n",
    "gen = ImageDataGenerator(horizontal_flip=True, vertical_flip=True, width_shift_range=0, height_shift_range=0,\n",
    "                         channel_shift_range=0,zoom_range=0.2,rotation_range=10)\n",
    "# Here is the function that merges our two generators\n",
    "def gen_flow_for_two_inputs(X1, X2, y):\n",
    "    genX1 = gen.flow(X1, y, batch_size= batch_size, seed = 55)\n",
    "    genX2 = gen.flow(X1, X2, batch_size = batch_size, seed = 55)\n",
    "    while True:\n",
    "        X1i = genX1.next()\n",
    "        X2i = genX2.next()\n",
    "        yield [X1i[0], X2i[1]], x1i[1]"
   ]
  }
 ],
 "metadata": {
  "kernelspec": {
   "display_name": "Python 3 (ipykernel)",
   "language": "python",
   "name": "python3"
  },
  "language_info": {
   "codemirror_mode": {
    "name": "ipython",
    "version": 3
   },
   "file_extension": ".py",
   "mimetype": "text/x-python",
   "name": "python",
   "nbconvert_exporter": "python",
   "pygments_lexer": "ipython3",
   "version": "3.7.11"
  }
 },
 "nbformat": 4,
 "nbformat_minor": 5
}
